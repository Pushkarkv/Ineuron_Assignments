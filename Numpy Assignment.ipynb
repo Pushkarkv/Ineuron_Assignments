{
 "cells": [
  {
   "cell_type": "code",
   "execution_count": 1,
   "metadata": {},
   "outputs": [],
   "source": [
    "import numpy as np"
   ]
  },
  {
   "cell_type": "markdown",
   "metadata": {},
   "source": [
    "# 1"
   ]
  },
  {
   "cell_type": "code",
   "execution_count": 2,
   "metadata": {},
   "outputs": [
    {
     "data": {
      "text/plain": [
       "array([[  1,   1,   1,   1],\n",
       "       [  8,   4,   2,   1],\n",
       "       [ 27,   9,   3,   1],\n",
       "       [ 64,  16,   4,   1],\n",
       "       [125,  25,   5,   1]], dtype=int32)"
      ]
     },
     "execution_count": 2,
     "metadata": {},
     "output_type": "execute_result"
    }
   ],
   "source": [
    "def alexandre_matrix(iterable,max_pow,increasing=False):\n",
    "    x=np.array(iterable)\n",
    "    if increasing==False:\n",
    "        y=np.column_stack([x**(max_pow-1-i) for i in range(max_pow)])\n",
    "    else:\n",
    "        y=np.column_stack([x**(i) for i in range(max_pow)])\n",
    "    return y\n",
    "\n",
    "alexandre_matrix([1,2,3,4,5],4)"
   ]
  },
  {
   "cell_type": "code",
   "execution_count": 3,
   "metadata": {},
   "outputs": [
    {
     "data": {
      "text/plain": [
       "array([[  1,   1,   1,   1],\n",
       "       [  1,   2,   4,   8],\n",
       "       [  1,   3,   9,  27],\n",
       "       [  1,   4,  16,  64],\n",
       "       [  1,   5,  25, 125]], dtype=int32)"
      ]
     },
     "execution_count": 3,
     "metadata": {},
     "output_type": "execute_result"
    }
   ],
   "source": [
    "alexandre_matrix([1,2,3,4,5],4,increasing=True)"
   ]
  },
  {
   "cell_type": "markdown",
   "metadata": {},
   "source": [
    "# 2"
   ]
  },
  {
   "cell_type": "code",
   "execution_count": 4,
   "metadata": {},
   "outputs": [
    {
     "data": {
      "text/plain": [
       "array([  5.        ,   4.66666667,   5.66666667,   6.66666667,\n",
       "         9.66666667,  28.66666667,  49.33333333,  72.66666667,\n",
       "        84.        ,  93.33333333, 116.33333333])"
      ]
     },
     "execution_count": 4,
     "metadata": {},
     "output_type": "execute_result"
    }
   ],
   "source": [
    "def moving_avg(iterable,window):\n",
    "    x=np.array(iterable)\n",
    "    y=np.cumsum(x)\n",
    "    y[window:]=y[window:]-y[:-window]\n",
    "    return y[window-1:]/window\n",
    "\n",
    "moving_avg([3, 5, 7, 2, 8, 10, 11, 65, 72, 81, 99, 100, 150],3)"
   ]
  },
  {
   "cell_type": "code",
   "execution_count": null,
   "metadata": {},
   "outputs": [],
   "source": []
  }
 ],
 "metadata": {
  "kernelspec": {
   "display_name": "Python 3",
   "language": "python",
   "name": "python3"
  },
  "language_info": {
   "codemirror_mode": {
    "name": "ipython",
    "version": 3
   },
   "file_extension": ".py",
   "mimetype": "text/x-python",
   "name": "python",
   "nbconvert_exporter": "python",
   "pygments_lexer": "ipython3",
   "version": "3.8.3"
  }
 },
 "nbformat": 4,
 "nbformat_minor": 4
}
