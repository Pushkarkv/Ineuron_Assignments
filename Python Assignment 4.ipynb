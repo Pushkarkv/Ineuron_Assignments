{
 "cells": [
  {
   "cell_type": "markdown",
   "metadata": {},
   "source": [
    "# 1.1"
   ]
  },
  {
   "cell_type": "code",
   "execution_count": 1,
   "metadata": {},
   "outputs": [
    {
     "name": "stdout",
     "output_type": "stream",
     "text": [
      "6.0\n"
     ]
    }
   ],
   "source": [
    "class Triangle:\n",
    "    def __init__(self,side1,side2,side3):\n",
    "        self.side1=side1\n",
    "        self.side2=side2\n",
    "        self.side3=side3\n",
    "    \n",
    "    def __str__(self):\n",
    "        return \"A triangle with sides {}, {} and {}.\".format(self.side1,self.side2,self.side3)\n",
    " \n",
    "class Polynomial(Triangle):\n",
    "    def __init__(self,*args):\n",
    "        super(Polynomial,self).__init__(*args)\n",
    "    \n",
    "    def find_area(self):\n",
    "        semi_perimeter=(self.side1+self.side2+self.side3)/2\n",
    "        return (semi_perimeter*(semi_perimeter-self.side1)*(semi_perimeter-self.side2)*(semi_perimeter-self.side3))**(1/2)\n",
    "\n",
    "b=Polynomial(4,3,5)\n",
    "print(b.find_area())"
   ]
  },
  {
   "cell_type": "markdown",
   "metadata": {},
   "source": [
    "# 1.2"
   ]
  },
  {
   "cell_type": "code",
   "execution_count": 2,
   "metadata": {},
   "outputs": [
    {
     "data": {
      "text/plain": [
       "['banana', 'grapes', 'orange']"
      ]
     },
     "execution_count": 2,
     "metadata": {},
     "output_type": "execute_result"
    }
   ],
   "source": [
    "def filter_long_words(length, iterable):\n",
    "    list1=[]\n",
    "    for item in iterable:\n",
    "        if len(item)>length:\n",
    "            list1.append(item)\n",
    "    return list1\n",
    "\n",
    "a=['mango','banana','grapes','orange']\n",
    "\n",
    "filter_long_words(5,a)"
   ]
  },
  {
   "cell_type": "markdown",
   "metadata": {},
   "source": [
    "# 2.1"
   ]
  },
  {
   "cell_type": "code",
   "execution_count": 3,
   "metadata": {},
   "outputs": [
    {
     "data": {
      "text/plain": [
       "[5, 6, 6, 6]"
      ]
     },
     "execution_count": 3,
     "metadata": {},
     "output_type": "execute_result"
    }
   ],
   "source": [
    "def length_mapper(iterable):\n",
    "    list1=[]\n",
    "    for item in iterable:\n",
    "        list1.append(len(item))\n",
    "    return list1\n",
    "\n",
    "length_mapper(a)"
   ]
  },
  {
   "cell_type": "markdown",
   "metadata": {},
   "source": [
    "# 2.2"
   ]
  },
  {
   "cell_type": "code",
   "execution_count": 4,
   "metadata": {},
   "outputs": [
    {
     "name": "stdout",
     "output_type": "stream",
     "text": [
      "Enter a character: A\n"
     ]
    },
    {
     "data": {
      "text/plain": [
       "True"
      ]
     },
     "execution_count": 4,
     "metadata": {},
     "output_type": "execute_result"
    }
   ],
   "source": [
    "def vowel(character):\n",
    "    char1=character.lower()\n",
    "    if char1 in ['a','e','i','o','u']:\n",
    "        return True\n",
    "    else:\n",
    "        return False\n",
    "\n",
    "vowel(input('Enter a character: '))     "
   ]
  },
  {
   "cell_type": "code",
   "execution_count": null,
   "metadata": {},
   "outputs": [],
   "source": []
  }
 ],
 "metadata": {
  "kernelspec": {
   "display_name": "Python 3",
   "language": "python",
   "name": "python3"
  },
  "language_info": {
   "codemirror_mode": {
    "name": "ipython",
    "version": 3
   },
   "file_extension": ".py",
   "mimetype": "text/x-python",
   "name": "python",
   "nbconvert_exporter": "python",
   "pygments_lexer": "ipython3",
   "version": "3.8.3"
  }
 },
 "nbformat": 4,
 "nbformat_minor": 4
}
